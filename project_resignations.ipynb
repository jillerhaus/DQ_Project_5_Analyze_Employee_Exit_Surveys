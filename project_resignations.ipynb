{
 "cells": [
  {
   "cell_type": "markdown",
   "metadata": {
    "collapsed": true
   },
   "source": [
    "# Project Analyzing the Reasons for End of Employment\n",
    "\n",
    "In this project, two surveys will be analyzed, both describing the ending of employment at two different institutes.\n",
    "The `DETE` dataset was collected by the [Department of Education, Training and Employment](https://en.wikipedia.org/wiki/Department_of_Education_and_Training_(Queensland)) and the `TAFE` dataset is based on former employees of the [Technical and Further Education](https://en.wikipedia.org/wiki/Technical_and_further_education), both of Queensland, Australia.\n",
    "The goal of this project will be to find out if there is a certain kind of dissatisfation that can be blamed on the end of employment for:\n",
    "* short term employees\n",
    "* long term employees"
   ]
  },
  {
   "cell_type": "markdown",
   "metadata": {},
   "source": [
    "Importing and reading in data:"
   ]
  },
  {
   "cell_type": "markdown",
   "metadata": {},
   "source": [
    "## Setup"
   ]
  },
  {
   "cell_type": "code",
   "execution_count": 3,
   "metadata": {},
   "outputs": [],
   "source": [
    "import numpy as np\n",
    "import pandas as pd\n",
    "\n",
    "dete_survey = pd.read_csv('dete_survey.csv')\n",
    "tafe_survey = pd.read_csv('tafe_survey.csv')\n"
   ]
  },
  {
   "cell_type": "markdown",
   "metadata": {},
   "source": [
    "## Overview"
   ]
  },
  {
   "cell_type": "code",
   "execution_count": 4,
   "metadata": {},
   "outputs": [
    {
     "name": "stdout",
     "output_type": "stream",
     "text": [
      "<class 'pandas.core.frame.DataFrame'>\n",
      "RangeIndex: 822 entries, 0 to 821\n",
      "Data columns (total 56 columns):\n",
      "ID                                     822 non-null int64\n",
      "SeparationType                         822 non-null object\n",
      "Cease Date                             822 non-null object\n",
      "DETE Start Date                        822 non-null object\n",
      "Role Start Date                        822 non-null object\n",
      "Position                               817 non-null object\n",
      "Classification                         455 non-null object\n",
      "Region                                 822 non-null object\n",
      "Business Unit                          126 non-null object\n",
      "Employment Status                      817 non-null object\n",
      "Career move to public sector           822 non-null bool\n",
      "Career move to private sector          822 non-null bool\n",
      "Interpersonal conflicts                822 non-null bool\n",
      "Job dissatisfaction                    822 non-null bool\n",
      "Dissatisfaction with the department    822 non-null bool\n",
      "Physical work environment              822 non-null bool\n",
      "Lack of recognition                    822 non-null bool\n",
      "Lack of job security                   822 non-null bool\n",
      "Work location                          822 non-null bool\n",
      "Employment conditions                  822 non-null bool\n",
      "Maternity/family                       822 non-null bool\n",
      "Relocation                             822 non-null bool\n",
      "Study/Travel                           822 non-null bool\n",
      "Ill Health                             822 non-null bool\n",
      "Traumatic incident                     822 non-null bool\n",
      "Work life balance                      822 non-null bool\n",
      "Workload                               822 non-null bool\n",
      "None of the above                      822 non-null bool\n",
      "Professional Development               808 non-null object\n",
      "Opportunities for promotion            735 non-null object\n",
      "Staff morale                           816 non-null object\n",
      "Workplace issue                        788 non-null object\n",
      "Physical environment                   817 non-null object\n",
      "Worklife balance                       815 non-null object\n",
      "Stress and pressure support            810 non-null object\n",
      "Performance of supervisor              813 non-null object\n",
      "Peer support                           812 non-null object\n",
      "Initiative                             813 non-null object\n",
      "Skills                                 811 non-null object\n",
      "Coach                                  767 non-null object\n",
      "Career Aspirations                     746 non-null object\n",
      "Feedback                               792 non-null object\n",
      "Further PD                             768 non-null object\n",
      "Communication                          814 non-null object\n",
      "My say                                 812 non-null object\n",
      "Information                            816 non-null object\n",
      "Kept informed                          813 non-null object\n",
      "Wellness programs                      766 non-null object\n",
      "Health & Safety                        793 non-null object\n",
      "Gender                                 798 non-null object\n",
      "Age                                    811 non-null object\n",
      "Aboriginal                             16 non-null object\n",
      "Torres Strait                          3 non-null object\n",
      "South Sea                              7 non-null object\n",
      "Disability                             23 non-null object\n",
      "NESB                                   32 non-null object\n",
      "dtypes: bool(18), int64(1), object(37)\n",
      "memory usage: 258.6+ KB\n",
      "None\n",
      "   ID         SeparationType Cease Date DETE Start Date Role Start Date  \\\n",
      "0   1  Ill Health Retirement    08/2012            1984            2004   \n",
      "\n",
      "         Position Classification          Region  \\\n",
      "0  Public Servant        A01-A04  Central Office   \n",
      "\n",
      "                       Business Unit    Employment Status  ...  Kept informed  \\\n",
      "0  Corporate Strategy and Peformance  Permanent Full-time  ...              N   \n",
      "\n",
      "   Wellness programs  Health & Safety  Gender    Age  Aboriginal  \\\n",
      "0                  N                N    Male  56-60         NaN   \n",
      "\n",
      "   Torres Strait  South Sea  Disability  NESB  \n",
      "0            NaN        NaN         NaN   Yes  \n",
      "\n",
      "[1 rows x 56 columns]\n",
      "ID                                       0\n",
      "SeparationType                           0\n",
      "Cease Date                               0\n",
      "DETE Start Date                          0\n",
      "Role Start Date                          0\n",
      "Position                                 5\n",
      "Classification                         367\n",
      "Region                                   0\n",
      "Business Unit                          696\n",
      "Employment Status                        5\n",
      "Career move to public sector             0\n",
      "Career move to private sector            0\n",
      "Interpersonal conflicts                  0\n",
      "Job dissatisfaction                      0\n",
      "Dissatisfaction with the department      0\n",
      "Physical work environment                0\n",
      "Lack of recognition                      0\n",
      "Lack of job security                     0\n",
      "Work location                            0\n",
      "Employment conditions                    0\n",
      "Maternity/family                         0\n",
      "Relocation                               0\n",
      "Study/Travel                             0\n",
      "Ill Health                               0\n",
      "Traumatic incident                       0\n",
      "Work life balance                        0\n",
      "Workload                                 0\n",
      "None of the above                        0\n",
      "Professional Development                14\n",
      "Opportunities for promotion             87\n",
      "Staff morale                             6\n",
      "Workplace issue                         34\n",
      "Physical environment                     5\n",
      "Worklife balance                         7\n",
      "Stress and pressure support             12\n",
      "Performance of supervisor                9\n",
      "Peer support                            10\n",
      "Initiative                               9\n",
      "Skills                                  11\n",
      "Coach                                   55\n",
      "Career Aspirations                      76\n",
      "Feedback                                30\n",
      "Further PD                              54\n",
      "Communication                            8\n",
      "My say                                  10\n",
      "Information                              6\n",
      "Kept informed                            9\n",
      "Wellness programs                       56\n",
      "Health & Safety                         29\n",
      "Gender                                  24\n",
      "Age                                     11\n",
      "Aboriginal                             806\n",
      "Torres Strait                          819\n",
      "South Sea                              815\n",
      "Disability                             799\n",
      "NESB                                   790\n",
      "dtype: int64\n"
     ]
    }
   ],
   "source": [
    "# Overview over the dete_survey data\n",
    "print(dete_survey.info())\n",
    "print(dete_survey.head(1))\n",
    "print(dete_survey.isnull().sum())\n"
   ]
  },
  {
   "cell_type": "markdown",
   "metadata": {},
   "source": [
    "# Dete Survey\n",
    "\n",
    "* 56 rows\n",
    "* A lot of columns are y/n answers\n",
    "* The last few columns are about origin of the employee and disability. These columns are predominantly made up of NaN values.\n",
    "* In total over half the columns have NaN values\n",
    "* The NaN values are called 'not stated' instead of nan in the dataset\n"
   ]
  },
  {
   "cell_type": "code",
   "execution_count": 5,
   "metadata": {},
   "outputs": [
    {
     "name": "stdout",
     "output_type": "stream",
     "text": [
      "<class 'pandas.core.frame.DataFrame'>\n",
      "RangeIndex: 702 entries, 0 to 701\n",
      "Data columns (total 72 columns):\n",
      "Record ID                                                                                                                                                        702 non-null float64\n",
      "Institute                                                                                                                                                        702 non-null object\n",
      "WorkArea                                                                                                                                                         702 non-null object\n",
      "CESSATION YEAR                                                                                                                                                   695 non-null float64\n",
      "Reason for ceasing employment                                                                                                                                    701 non-null object\n",
      "Contributing Factors. Career Move - Public Sector                                                                                                                437 non-null object\n",
      "Contributing Factors. Career Move - Private Sector                                                                                                               437 non-null object\n",
      "Contributing Factors. Career Move - Self-employment                                                                                                              437 non-null object\n",
      "Contributing Factors. Ill Health                                                                                                                                 437 non-null object\n",
      "Contributing Factors. Maternity/Family                                                                                                                           437 non-null object\n",
      "Contributing Factors. Dissatisfaction                                                                                                                            437 non-null object\n",
      "Contributing Factors. Job Dissatisfaction                                                                                                                        437 non-null object\n",
      "Contributing Factors. Interpersonal Conflict                                                                                                                     437 non-null object\n",
      "Contributing Factors. Study                                                                                                                                      437 non-null object\n",
      "Contributing Factors. Travel                                                                                                                                     437 non-null object\n",
      "Contributing Factors. Other                                                                                                                                      437 non-null object\n",
      "Contributing Factors. NONE                                                                                                                                       437 non-null object\n",
      "Main Factor. Which of these was the main factor for leaving?                                                                                                     113 non-null object\n",
      "InstituteViews. Topic:1. I feel the senior leadership had a clear vision and direction                                                                           608 non-null object\n",
      "InstituteViews. Topic:2. I was given access to skills training to help me do my job better                                                                       613 non-null object\n",
      "InstituteViews. Topic:3. I was given adequate opportunities for personal development                                                                             610 non-null object\n",
      "InstituteViews. Topic:4. I was given adequate opportunities for promotion within %Institute]Q25LBL%                                                              608 non-null object\n",
      "InstituteViews. Topic:5. I felt the salary for the job was right for the responsibilities I had                                                                  615 non-null object\n",
      "InstituteViews. Topic:6. The organisation recognised when staff did good work                                                                                    607 non-null object\n",
      "InstituteViews. Topic:7. Management was generally supportive of me                                                                                               614 non-null object\n",
      "InstituteViews. Topic:8. Management was generally supportive of my team                                                                                          608 non-null object\n",
      "InstituteViews. Topic:9. I was kept informed of the changes in the organisation which would affect me                                                            610 non-null object\n",
      "InstituteViews. Topic:10. Staff morale was positive within the Institute                                                                                         602 non-null object\n",
      "InstituteViews. Topic:11. If I had a workplace issue it was dealt with quickly                                                                                   601 non-null object\n",
      "InstituteViews. Topic:12. If I had a workplace issue it was dealt with efficiently                                                                               597 non-null object\n",
      "InstituteViews. Topic:13. If I had a workplace issue it was dealt with discreetly                                                                                601 non-null object\n",
      "WorkUnitViews. Topic:14. I was satisfied with the quality of the management and supervision within my work unit                                                  609 non-null object\n",
      "WorkUnitViews. Topic:15. I worked well with my colleagues                                                                                                        605 non-null object\n",
      "WorkUnitViews. Topic:16. My job was challenging and interesting                                                                                                  607 non-null object\n",
      "WorkUnitViews. Topic:17. I was encouraged to use my initiative in the course of my work                                                                          610 non-null object\n",
      "WorkUnitViews. Topic:18. I had sufficient contact with other people in my job                                                                                    613 non-null object\n",
      "WorkUnitViews. Topic:19. I was given adequate support and co-operation by my peers to enable me to do my job                                                     609 non-null object\n",
      "WorkUnitViews. Topic:20. I was able to use the full range of my skills in my job                                                                                 609 non-null object\n",
      "WorkUnitViews. Topic:21. I was able to use the full range of my abilities in my job. ; Category:Level of Agreement; Question:YOUR VIEWS ABOUT YOUR WORK UNIT]    608 non-null object\n",
      "WorkUnitViews. Topic:22. I was able to use the full range of my knowledge in my job                                                                              608 non-null object\n",
      "WorkUnitViews. Topic:23. My job provided sufficient variety                                                                                                      611 non-null object\n",
      "WorkUnitViews. Topic:24. I was able to cope with the level of stress and pressure in my job                                                                      610 non-null object\n",
      "WorkUnitViews. Topic:25. My job allowed me to balance the demands of work and family to my satisfaction                                                          611 non-null object\n",
      "WorkUnitViews. Topic:26. My supervisor gave me adequate personal recognition and feedback on my performance                                                      606 non-null object\n",
      "WorkUnitViews. Topic:27. My working environment was satisfactory e.g. sufficient space, good lighting, suitable seating and working area                         610 non-null object\n",
      "WorkUnitViews. Topic:28. I was given the opportunity to mentor and coach others in order for me to pass on my skills and knowledge prior to my cessation date    609 non-null object\n",
      "WorkUnitViews. Topic:29. There was adequate communication between staff in my unit                                                                               603 non-null object\n",
      "WorkUnitViews. Topic:30. Staff morale was positive within my work unit                                                                                           606 non-null object\n",
      "Induction. Did you undertake Workplace Induction?                                                                                                                619 non-null object\n",
      "InductionInfo. Topic:Did you undertake a Corporate Induction?                                                                                                    432 non-null object\n",
      "InductionInfo. Topic:Did you undertake a Institute Induction?                                                                                                    483 non-null object\n",
      "InductionInfo. Topic: Did you undertake Team Induction?                                                                                                          440 non-null object\n",
      "InductionInfo. Face to Face Topic:Did you undertake a Corporate Induction; Category:How it was conducted?                                                        555 non-null object\n",
      "InductionInfo. On-line Topic:Did you undertake a Corporate Induction; Category:How it was conducted?                                                             555 non-null object\n",
      "InductionInfo. Induction Manual Topic:Did you undertake a Corporate Induction?                                                                                   555 non-null object\n",
      "InductionInfo. Face to Face Topic:Did you undertake a Institute Induction?                                                                                       530 non-null object\n",
      "InductionInfo. On-line Topic:Did you undertake a Institute Induction?                                                                                            555 non-null object\n",
      "InductionInfo. Induction Manual Topic:Did you undertake a Institute Induction?                                                                                   553 non-null object\n",
      "InductionInfo. Face to Face Topic: Did you undertake Team Induction; Category?                                                                                   555 non-null object\n",
      "InductionInfo. On-line Topic: Did you undertake Team Induction?process you undertook and how it was conducted.]                                                  555 non-null object\n",
      "InductionInfo. Induction Manual Topic: Did you undertake Team Induction?                                                                                         555 non-null object\n",
      "Workplace. Topic:Did you and your Manager develop a Performance and Professional Development Plan (PPDP)?                                                        608 non-null object\n",
      "Workplace. Topic:Does your workplace promote a work culture free from all forms of unlawful discrimination?                                                      594 non-null object\n",
      "Workplace. Topic:Does your workplace promote and practice the principles of employment equity?                                                                   587 non-null object\n",
      "Workplace. Topic:Does your workplace value the diversity of its employees?                                                                                       586 non-null object\n",
      "Workplace. Topic:Would you recommend the Institute as an employer to others?                                                                                     581 non-null object\n",
      "Gender. What is your Gender?                                                                                                                                     596 non-null object\n",
      "CurrentAge. Current Age                                                                                                                                          596 non-null object\n",
      "Employment Type. Employment Type                                                                                                                                 596 non-null object\n",
      "Classification. Classification                                                                                                                                   596 non-null object\n",
      "LengthofServiceOverall. Overall Length of Service at Institute (in years)                                                                                        596 non-null object\n",
      "LengthofServiceCurrent. Length of Service at current workplace (in years)                                                                                        596 non-null object\n",
      "dtypes: float64(2), object(70)\n",
      "memory usage: 395.0+ KB\n",
      "None\n"
     ]
    },
    {
     "name": "stdout",
     "output_type": "stream",
     "text": [
      "      Record ID                              Institute  \\\n",
      "0  6.341330e+17  Southern Queensland Institute of TAFE   \n",
      "1  6.341337e+17            Mount Isa Institute of TAFE   \n",
      "2  6.341388e+17            Mount Isa Institute of TAFE   \n",
      "3  6.341399e+17            Mount Isa Institute of TAFE   \n",
      "4  6.341466e+17  Southern Queensland Institute of TAFE   \n",
      "\n",
      "                   WorkArea  CESSATION YEAR Reason for ceasing employment  \\\n",
      "0  Non-Delivery (corporate)          2010.0              Contract Expired   \n",
      "1  Non-Delivery (corporate)          2010.0                    Retirement   \n",
      "2       Delivery (teaching)          2010.0                    Retirement   \n",
      "3  Non-Delivery (corporate)          2010.0                   Resignation   \n",
      "4       Delivery (teaching)          2010.0                   Resignation   \n",
      "\n",
      "  Contributing Factors. Career Move - Public Sector   \\\n",
      "0                                                NaN   \n",
      "1                                                  -   \n",
      "2                                                  -   \n",
      "3                                                  -   \n",
      "4                                                  -   \n",
      "\n",
      "  Contributing Factors. Career Move - Private Sector   \\\n",
      "0                                                NaN    \n",
      "1                                                  -    \n",
      "2                                                  -    \n",
      "3                                                  -    \n",
      "4                       Career Move - Private Sector    \n",
      "\n",
      "  Contributing Factors. Career Move - Self-employment  \\\n",
      "0                                                NaN    \n",
      "1                                                  -    \n",
      "2                                                  -    \n",
      "3                                                  -    \n",
      "4                                                  -    \n",
      "\n",
      "  Contributing Factors. Ill Health Contributing Factors. Maternity/Family  \\\n",
      "0                              NaN                                    NaN   \n",
      "1                                -                                      -   \n",
      "2                                -                                      -   \n",
      "3                                -                                      -   \n",
      "4                                -                                      -   \n",
      "\n",
      "   ...  \\\n",
      "0  ...   \n",
      "1  ...   \n",
      "2  ...   \n",
      "3  ...   \n",
      "4  ...   \n",
      "\n",
      "  Workplace. Topic:Does your workplace promote a work culture free from all forms of unlawful discrimination?  \\\n",
      "0                                                Yes                                                            \n",
      "1                                                Yes                                                            \n",
      "2                                                Yes                                                            \n",
      "3                                                Yes                                                            \n",
      "4                                                Yes                                                            \n",
      "\n",
      "  Workplace. Topic:Does your workplace promote and practice the principles of employment equity?  \\\n",
      "0                                                Yes                                               \n",
      "1                                                Yes                                               \n",
      "2                                                Yes                                               \n",
      "3                                                Yes                                               \n",
      "4                                                Yes                                               \n",
      "\n",
      "  Workplace. Topic:Does your workplace value the diversity of its employees?  \\\n",
      "0                                                Yes                           \n",
      "1                                                Yes                           \n",
      "2                                                Yes                           \n",
      "3                                                Yes                           \n",
      "4                                                Yes                           \n",
      "\n",
      "  Workplace. Topic:Would you recommend the Institute as an employer to others?  \\\n",
      "0                                                Yes                             \n",
      "1                                                Yes                             \n",
      "2                                                Yes                             \n",
      "3                                                Yes                             \n",
      "4                                                Yes                             \n",
      "\n",
      "  Gender. What is your Gender? CurrentAge. Current Age  \\\n",
      "0                       Female                  26  30   \n",
      "1                          NaN                     NaN   \n",
      "2                          NaN                     NaN   \n",
      "3                          NaN                     NaN   \n",
      "4                         Male                  41  45   \n",
      "\n",
      "  Employment Type. Employment Type Classification. Classification  \\\n",
      "0              Temporary Full-time            Administration (AO)   \n",
      "1                              NaN                            NaN   \n",
      "2                              NaN                            NaN   \n",
      "3                              NaN                            NaN   \n",
      "4              Permanent Full-time        Teacher (including LVT)   \n",
      "\n",
      "  LengthofServiceOverall. Overall Length of Service at Institute (in years)  \\\n",
      "0                                                1-2                          \n",
      "1                                                NaN                          \n",
      "2                                                NaN                          \n",
      "3                                                NaN                          \n",
      "4                                                3-4                          \n",
      "\n",
      "  LengthofServiceCurrent. Length of Service at current workplace (in years)  \n",
      "0                                                1-2                         \n",
      "1                                                NaN                         \n",
      "2                                                NaN                         \n",
      "3                                                NaN                         \n",
      "4                                                3-4                         \n",
      "\n",
      "[5 rows x 72 columns]\n",
      "Record ID                                                                      0\n",
      "Institute                                                                      0\n",
      "WorkArea                                                                       0\n",
      "CESSATION YEAR                                                                 7\n",
      "Reason for ceasing employment                                                  1\n",
      "                                                                            ... \n",
      "CurrentAge. Current Age                                                      106\n",
      "Employment Type. Employment Type                                             106\n",
      "Classification. Classification                                               106\n",
      "LengthofServiceOverall. Overall Length of Service at Institute (in years)    106\n",
      "LengthofServiceCurrent. Length of Service at current workplace (in years)    106\n",
      "Length: 72, dtype: int64\n"
     ]
    }
   ],
   "source": [
    "# Tafe Survey Data overview\n",
    "\n",
    "print(tafe_survey.info())\n",
    "print(tafe_survey.head())\n",
    "print(tafe_survey.isnull().sum())"
   ]
  },
  {
   "cell_type": "markdown",
   "metadata": {},
   "source": [
    "## tafe_survey data overview\n",
    "\n",
    "* has 72 columns\n",
    "* 702 rows\n",
    "* 69 of the 72 columns have NaN values\n"
   ]
  },
  {
   "cell_type": "markdown",
   "metadata": {},
   "source": [
    "## Observations about both datasets:\n",
    "\n",
    "* They contain a lot of columns that are not needed for this analysis\n",
    "* They contain a lot of columns with the same information, but with different names"
   ]
  },
  {
   "cell_type": "markdown",
   "metadata": {},
   "source": [
    "## Data Cleaning"
   ]
  },
  {
   "cell_type": "code",
   "execution_count": 6,
   "metadata": {},
   "outputs": [],
   "source": [
    "# read the dete survey again, but using Not Stated as the NaN parameter\n",
    "\n",
    "dete_survey = pd.read_csv('dete_survey.csv', na_values = 'Not Stated')\n",
    "\n",
    "# drop some columns not useful in this analysis\n",
    "\n",
    "dete_survey_updated = dete_survey.drop(dete_survey.columns[28:49], axis = 1)\n",
    "\n",
    "tafe_survey_updated = tafe_survey.drop(tafe_survey.columns[17:66], axis = 1)\n"
   ]
  },
  {
   "cell_type": "code",
   "execution_count": 9,
   "metadata": {},
   "outputs": [
    {
     "name": "stdout",
     "output_type": "stream",
     "text": [
      "Index(['id', 'separationtype', 'cease_date', 'dete_start_date',\n",
      "       'role_start_date', 'position', 'classification', 'region',\n",
      "       'business_unit', 'employment_status', 'career_move_to_public_sector',\n",
      "       'career_move_to_private_sector', 'interpersonal_conflicts',\n",
      "       'job_dissatisfaction', 'dissatisfaction_with_the_department',\n",
      "       'physical_work_environment', 'lack_of_recognition',\n",
      "       'lack_of_job_security', 'work_location', 'employment_conditions',\n",
      "       'maternity/family', 'relocation', 'study/travel', 'ill_health',\n",
      "       'traumatic_incident', 'work_life_balance', 'workload',\n",
      "       'none_of_the_above', 'gender', 'age', 'aboriginal', 'torres_strait',\n",
      "       'south_sea', 'disability', 'nesb'],\n",
      "      dtype='object')\n"
     ]
    }
   ],
   "source": [
    "# standardizing column names\n",
    "## dete survey standardization\n",
    "dete_survey_updated.columns = dete_survey_updated.columns.str.lower().str.strip().str.replace(r'\\s+', '_')\n",
    "\n",
    "# tafe standardization\n",
    "tafe_dic = {'Record ID': 'id', 'CESSATION YEAR' : 'cease_date', 'Reason for ceasing employment' : 'separationtype',\n",
    "           'Gender. What is your Gender?' : 'gender', 'CurrentAge. Current Age' : 'age', 'Employment Type. Employment Type' : 'employment_status',\n",
    "            'Classification. Classification' : 'position', 'LengthofServiceOverall. Overall Length of Service at Institute (in years)': 'institute_service',\n",
    "           'LengthofServiceCurrent. Length of Service at current workplace (in years)': 'role_service'}\n",
    "tafe_survey_updated.rename(columns = tafe_dic, inplace = True)\n",
    "print(dete_survey_updated.columns)\n",
    "\n"
   ]
  },
  {
   "cell_type": "markdown",
   "metadata": {},
   "source": [
    "### Changes to column names\n",
    "\n",
    "For concatenation --> standardized column names\n",
    "\n",
    "Changes made:\n",
    "\n",
    "* `dete_survey`: no capitalization, no unneccessary whitespaces, turn whitespaces between words into underscores --> `dete_survey_updated`\n",
    "\n",
    "* `tafe_survey`: renaming columns important for the data analysis to match the columns of the `dete_survey_updated`"
   ]
  },
  {
   "cell_type": "code",
   "execution_count": 10,
   "metadata": {},
   "outputs": [
    {
     "data": {
      "text/plain": [
       "Resignation                 340\n",
       "Contract Expired            127\n",
       "Retrenchment/ Redundancy    104\n",
       "Retirement                   82\n",
       "Transfer                     25\n",
       "Termination                  23\n",
       "Name: separationtype, dtype: int64"
      ]
     },
     "execution_count": 10,
     "metadata": {},
     "output_type": "execute_result"
    }
   ],
   "source": [
    "tafe_survey_updated['separationtype'].value_counts()"
   ]
  },
  {
   "cell_type": "markdown",
   "metadata": {},
   "source": [
    "### unifying and isolating the resignation rows\n",
    "\n",
    "`TAFE`: saved all rows with `'separation'` in the `'separationtype'` column to the `tafe_resignations` dataframe\n",
    "\n",
    "`DETE`: had 3 different entries for `'Separation'`:\n",
    "    1. Set all of them as 'Separation'\n",
    "    2. Saved all 'separation' rows to the `dete_resignations` dataframe"
   ]
  },
  {
   "cell_type": "code",
   "execution_count": 11,
   "metadata": {
    "scrolled": true
   },
   "outputs": [
    {
     "name": "stdout",
     "output_type": "stream",
     "text": [
      "3      2005.0\n",
      "5      1994.0\n",
      "8      2009.0\n",
      "9      1997.0\n",
      "11     2009.0\n",
      "        ...  \n",
      "808    2010.0\n",
      "815    2012.0\n",
      "816    2012.0\n",
      "819    2009.0\n",
      "821       NaN\n",
      "Name: dete_start_date, Length: 311, dtype: float64\n"
     ]
    }
   ],
   "source": [
    "# Saving all resignation rows to separate dataframe: tafe\n",
    "tafe_resignations = tafe_survey_updated.loc[tafe_survey_updated['separationtype'] =='Resignation'].copy()\n",
    "\n",
    "#Setting all \n",
    "dete_survey_updated.loc[dete_survey_updated['separationtype'].str.contains(r'Resignation'), 'separationtype'] = 'Resignation' \n",
    "\n",
    "# Saving all resignation rows to separate dataframe: dete\n",
    "dete_resignations = dete_survey_updated.loc[dete_survey_updated['separationtype'] =='Resignation'].copy()\n",
    "\n",
    "# extracting just the years and saving them to the column in dete_resignation\n",
    "dete_resignations['cease_date'] = dete_resignations['cease_date'].str.extract(pat = '(\\d{4})', expand = False).astype(float)\n",
    "\n",
    "# Turnin the dates in dete_start_date from strings into floats\n",
    "print(dete_resignations['dete_start_date'].astype(float))"
   ]
  },
  {
   "cell_type": "code",
   "execution_count": 11,
   "metadata": {},
   "outputs": [
    {
     "name": "stdout",
     "output_type": "stream",
     "text": [
      "TAFE resignation Years:\n",
      "\n",
      " 2011.0    116\n",
      " 2012.0     94\n",
      " 2010.0     68\n",
      " 2013.0     55\n",
      "NaN          5\n",
      " 2009.0      2\n",
      "Name: cease_date, dtype: int64\n",
      "\n",
      "\n",
      "DETE resignation Years:\n",
      "\n",
      " 2013.0    146\n",
      " 2012.0    129\n",
      " 2014.0     22\n",
      "NaN         11\n",
      " 2010.0      2\n",
      " 2006.0      1\n",
      "Name: cease_date, dtype: int64\n",
      "\n",
      "\n",
      "DETE start Years:\n",
      "\n",
      " 2013.0    10\n",
      " 2012.0    21\n",
      " 2011.0    24\n",
      " 2010.0    17\n",
      " 2009.0    13\n",
      " 2008.0    22\n",
      " 2007.0    21\n",
      " 2006.0    13\n",
      " 2005.0    15\n",
      " 2004.0    14\n",
      " 2003.0     6\n",
      " 2002.0     6\n",
      " 2001.0     3\n",
      " 2000.0     9\n",
      " 1999.0     8\n",
      " 1998.0     6\n",
      " 1997.0     5\n",
      " 1996.0     6\n",
      " 1995.0     4\n",
      " 1994.0     6\n",
      " 1993.0     5\n",
      " 1992.0     6\n",
      " 1991.0     4\n",
      " 1990.0     5\n",
      " 1989.0     4\n",
      " 1988.0     4\n",
      " 1987.0     1\n",
      " 1986.0     3\n",
      " 1985.0     3\n",
      " 1984.0     1\n",
      " 1983.0     2\n",
      " 1982.0     1\n",
      " 1980.0     5\n",
      " 1977.0     1\n",
      " 1976.0     2\n",
      " 1975.0     1\n",
      " 1974.0     2\n",
      " 1973.0     1\n",
      " 1972.0     1\n",
      " 1971.0     1\n",
      " 1963.0     1\n",
      "NaN        28\n",
      "Name: dete_start_date, dtype: int64\n"
     ]
    }
   ],
   "source": [
    "print('TAFE resignation Years:\\n')\n",
    "print(tafe_resignations['cease_date'].value_counts(dropna = False))\n",
    "\n",
    "print('\\n\\nDETE resignation Years:\\n')\n",
    "print(dete_resignations['cease_date'].value_counts(dropna = False))\n",
    "\n",
    "print('\\n\\nDETE start Years:\\n')\n",
    "print(dete_resignations['dete_start_date'].value_counts(dropna = False).\n",
    "      sort_index(ascending = False))\n"
   ]
  },
  {
   "cell_type": "markdown",
   "metadata": {},
   "source": [
    "## Interpretation:\n",
    "\n",
    "* TAFE resignation years:\n",
    "    * data from 2009-2013\n",
    "    * has 5 NaN values\n",
    "    \n",
    "* DETE resignation years:\n",
    "    * has dates 2006, 2010 and 2012-2014\n",
    "    * 11 NaN values\n",
    "    \n",
    "* DETE start years:\n",
    "    * 28 NaN values\n",
    "    * Dates from 1963 to 2013"
   ]
  },
  {
   "cell_type": "code",
   "execution_count": 12,
   "metadata": {},
   "outputs": [
    {
     "name": "stdout",
     "output_type": "stream",
     "text": [
      "Index(['id', 'separationtype', 'cease_date', 'dete_start_date',\n",
      "       'role_start_date', 'position', 'classification', 'region',\n",
      "       'business_unit', 'employment_status', 'career_move_to_public_sector',\n",
      "       'career_move_to_private_sector', 'interpersonal_conflicts',\n",
      "       'job_dissatisfaction', 'dissatisfaction_with_the_department',\n",
      "       'physical_work_environment', 'lack_of_recognition',\n",
      "       'lack_of_job_security', 'work_location', 'employment_conditions',\n",
      "       'maternity/family', 'relocation', 'study/travel', 'ill_health',\n",
      "       'traumatic_incident', 'work_life_balance', 'workload',\n",
      "       'none_of_the_above', 'gender', 'age', 'aboriginal', 'torres_strait',\n",
      "       'south_sea', 'disability', 'nesb'],\n",
      "      dtype='object')\n",
      "Index(['id', 'Institute', 'WorkArea', 'cease_date', 'separationtype',\n",
      "       'Contributing Factors. Career Move - Public Sector ',\n",
      "       'Contributing Factors. Career Move - Private Sector ',\n",
      "       'Contributing Factors. Career Move - Self-employment',\n",
      "       'Contributing Factors. Ill Health',\n",
      "       'Contributing Factors. Maternity/Family',\n",
      "       'Contributing Factors. Dissatisfaction',\n",
      "       'Contributing Factors. Job Dissatisfaction',\n",
      "       'Contributing Factors. Interpersonal Conflict',\n",
      "       'Contributing Factors. Study', 'Contributing Factors. Travel',\n",
      "       'Contributing Factors. Other', 'Contributing Factors. NONE', 'gender',\n",
      "       'age', 'employment_status', 'position', 'institute_service',\n",
      "       'role_service'],\n",
      "      dtype='object')\n"
     ]
    }
   ],
   "source": [
    "print(dete_resignations.columns)\n",
    "print(tafe_resignations.columns)"
   ]
  },
  {
   "cell_type": "markdown",
   "metadata": {},
   "source": [
    "This means we can use the available data to calculate the institute service. For TAFE we have the entry and exit years. For DETE we have the institute_status already calculated"
   ]
  },
  {
   "cell_type": "markdown",
   "metadata": {},
   "source": [
    "Now adding an 'institute_service' column to the dete_resignations dataframe"
   ]
  },
  {
   "cell_type": "code",
   "execution_count": 13,
   "metadata": {},
   "outputs": [],
   "source": [
    "dete_resignations['institute_service'] = dete_resignations['cease_date'] - dete_resignations['dete_start_date']"
   ]
  },
  {
   "cell_type": "markdown",
   "metadata": {},
   "source": [
    "Since the reasons for resignation were divided into many different columns with using different syntax, in the next cell, a new column (dissatisfied) is created to combine all the dissatisfaction reasons into one boolean column in the next cell."
   ]
  },
  {
   "cell_type": "code",
   "execution_count": 148,
   "metadata": {},
   "outputs": [
    {
     "ename": "SyntaxError",
     "evalue": "invalid syntax (<ipython-input-148-752659b6c1c4>, line 17)",
     "output_type": "error",
     "traceback": [
      "\u001b[1;36m  File \u001b[1;32m\"<ipython-input-148-752659b6c1c4>\"\u001b[1;36m, line \u001b[1;32m17\u001b[0m\n\u001b[1;33m    dis_list = dete_resignations.columns[[13,14,15,16,17,18,19,25,26]]\u001b[0m\n\u001b[1;37m           ^\u001b[0m\n\u001b[1;31mSyntaxError\u001b[0m\u001b[1;31m:\u001b[0m invalid syntax\n"
     ]
    }
   ],
   "source": [
    "def update_vals(value):\n",
    "    \n",
    "    if pd.isnull(value):\n",
    "        return np.nan\n",
    "    \n",
    "    elif value == '-':\n",
    "        return False\n",
    "    \n",
    "    else:\n",
    "        return True\n",
    "    \n",
    "tafe_resignations['dissatisfied'] = (tafe_resignations[['Contributing Factors. Dissatisfaction',\n",
    "                  'Contributing Factors. Job Dissatisfaction']]\n",
    "                                     .applymap(update_vals).any(axis = 1, skipna =False)\n",
    "\n",
    "                                                                                         \n",
    "dis_list = dete_resignations.columns[[13,14,15,16,17,18,19,25,26]]\n",
    "dete_resignations['dissatisfied'] = dete_resignations[dis_list].any(axis = 1, skipna = False)\n",
    "#print(dete_resignations.columns[25:27])#[13:20])\n",
    "dete_resignations_up = dete_resignations.copy()\n",
    "tafe_resignations_up = tafe_resignations.copy()\n",
    "# print((tafe_resignations[tafe_resignations.columns[5]] != '-').value_counts())"
   ]
  },
  {
   "cell_type": "code",
   "execution_count": 149,
   "metadata": {},
   "outputs": [
    {
     "name": "stdout",
     "output_type": "stream",
     "text": [
      "(311, 38)\n",
      "(340, 25)\n"
     ]
    }
   ],
   "source": [
    "# New column to distinguish between datasets\n",
    "dete_resignations_up['institute'] = 'DETE'\n",
    "tafe_resignations_up['institute'] = 'TAFE'\n",
    "print(dete_resignations_up.shape)\n",
    "print(tafe_resignations_up.shape)"
   ]
  },
  {
   "cell_type": "markdown",
   "metadata": {},
   "source": [
    "Combining the two datasets and dropping all columns with fewer than 500 non-na values to quickly eliminate unneeded data"
   ]
  },
  {
   "cell_type": "code",
   "execution_count": 150,
   "metadata": {},
   "outputs": [],
   "source": [
    "combined = pd.concat([dete_resignations_up, tafe_resignations_up], ignore_index = True)\n",
    "# print(combined.shape)\n",
    "combined_updated = combined.dropna(axis = 1, thresh = 500).copy()\n",
    "# print(combined_updated.shape)\n",
    "# print(combined_updated.columns)"
   ]
  },
  {
   "cell_type": "markdown",
   "metadata": {},
   "source": [
    "The 'institute_service' column is a combination of calculated years in the one dataframe and strings such as '3-4 years' in the other. The next cell"
   ]
  },
  {
   "cell_type": "code",
   "execution_count": 151,
   "metadata": {},
   "outputs": [],
   "source": [
    "# combined_updated.loc[:,'institute_service_up'] \n",
    "combined_updated['institute_service_up'] = (combined_updated.loc[:,'institute_service']\n",
    "     .astype('str').str.extract((r'(\\d+)'),expand = False).astype('float'))\n",
    "#combined_updated['institute_service_up'] = combined_updated['institute_service_up'].astype('float')\n",
    "# print(combined_updated['institute_service_up'].value_counts(dropna = False))\n",
    "# a[combined_updated['institute_service'].isnull()] = np.nan\n",
    "# a.astype('float')"
   ]
  },
  {
   "cell_type": "markdown",
   "metadata": {},
   "source": [
    "Turn the float into different employment length categories"
   ]
  },
  {
   "cell_type": "markdown",
   "metadata": {},
   "source": [
    "Next: a function to put employees into drawers of experience"
   ]
  },
  {
   "cell_type": "code",
   "execution_count": 152,
   "metadata": {
    "collapsed": true
   },
   "outputs": [],
   "source": [
    "def drawers(years):\n",
    "    if pd.isnull(years):\n",
    "        return 'unknown'\n",
    "    elif years < 3:\n",
    "        return 'New'\n",
    "    elif years <= 6:\n",
    "        return 'Experienced'\n",
    "    elif years <= 10:\n",
    "        return 'Established'\n",
    "    else:\n",
    "        return 'Veteran'"
   ]
  },
  {
   "cell_type": "markdown",
   "metadata": {},
   "source": [
    "Using the function on the 'institute_service_up' column to create new column 'service_cat' for the different service-lenght categories"
   ]
  },
  {
   "cell_type": "code",
   "execution_count": 153,
   "metadata": {},
   "outputs": [],
   "source": [
    "combined_updated['service_cat'] = combined_updated['institute_service_up'].map(drawers)"
   ]
  },
  {
   "cell_type": "code",
   "execution_count": 154,
   "metadata": {},
   "outputs": [
    {
     "data": {
      "text/plain": [
       "False    403\n",
       "True     240\n",
       "NaN        8\n",
       "Name: dissatisfied, dtype: int64"
      ]
     },
     "execution_count": 154,
     "metadata": {},
     "output_type": "execute_result"
    }
   ],
   "source": [
    "combined_updated['dissatisfied'].value_counts(dropna = False)"
   ]
  },
  {
   "cell_type": "markdown",
   "metadata": {},
   "source": [
    "Filling the NaNs with the most common element: False"
   ]
  },
  {
   "cell_type": "code",
   "execution_count": 158,
   "metadata": {},
   "outputs": [],
   "source": [
    "combined_updated['dissatisfied'] = (combined_updated['dissatisfied'].fillna(False))"
   ]
  },
  {
   "cell_type": "code",
   "execution_count": 162,
   "metadata": {},
   "outputs": [
    {
     "data": {
      "text/plain": [
       "<matplotlib.axes._subplots.AxesSubplot at 0x7f4fdd98a588>"
      ]
     },
     "execution_count": 162,
     "metadata": {},
     "output_type": "execute_result"
    },
    {
     "data": {
      "image/png": "[encoded data removed]",
      "text/plain": [
       "<matplotlib.figure.Figure at 0x7f4fdd96edd8>"
      ]
     },
     "metadata": {},
     "output_type": "display_data"
    }
   ],
   "source": [
    "%matplotlib inline\n",
    "combined_updated.pivot_table(index = 'service_cat', values = 'dissatisfied').plot(kind = 'bar')"
   ]
  },
  {
   "cell_type": "markdown",
   "metadata": {},
   "source": [
    "Most people that quit due to dissatisfaction were employees that worked for more than 3 years"
   ]
  }
 ],
 "metadata": {
  "kernelspec": {
   "display_name": "Python 3",
   "language": "python",
   "name": "python3"
  },
  "language_info": {
   "codemirror_mode": {
    "name": "ipython",
    "version": 3
   },
   "file_extension": ".py",
   "mimetype": "text/x-python",
   "name": "python",
   "nbconvert_exporter": "python",
   "pygments_lexer": "ipython3",
   "version": "3.7.3"
  }
 },
 "nbformat": 4,
 "nbformat_minor": 2
}
